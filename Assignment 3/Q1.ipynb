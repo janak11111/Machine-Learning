{
  "cells": [
    {
      "cell_type": "code",
      "execution_count": null,
      "metadata": {
        "collapsed": true,
        "id": "o6540yeJ9ENT"
      },
      "outputs": [],
      "source": [
        "# import libraries\n",
        "import pandas as pd\n",
        "import numpy as np\n",
        "from tensorflow.keras.datasets import mnist\n",
        "from sklearn.preprocessing import MinMaxScaler\n",
        "import warnings\n",
        "warnings.filterwarnings(\"ignore\")\n",
        "from sklearn.svm import SVC, LinearSVC\n",
        "from sklearn.metrics import f1_score, confusion_matrix, accuracy_score\n",
        "from sklearn.model_selection import GridSearchCV"
      ]
    },
    {
      "cell_type": "markdown",
      "metadata": {
        "id": "fkON_K8m9JiL"
      },
      "source": [
        "## Linear SVM Classifier"
      ]
    },
    {
      "cell_type": "code",
      "execution_count": null,
      "metadata": {
        "collapsed": true,
        "id": "pEkdJNuV9O9V"
      },
      "outputs": [],
      "source": [
        "# load mnist datasset\n",
        "(x_train, y_train), (x_test, y_test) = mnist.load_data()"
      ]
    },
    {
      "cell_type": "code",
      "execution_count": null,
      "metadata": {
        "colab": {
          "base_uri": "https://localhost:8080/"
        },
        "id": "9ddfFnEH9eEM",
        "outputId": "34617075-cddf-41a5-e537-3579af0dce7f"
      },
      "outputs": [
        {
          "output_type": "stream",
          "name": "stdout",
          "text": [
            "(60000, 28, 28)\n",
            "(10000, 28, 28)\n",
            "(60000,)\n",
            "(10000,)\n"
          ]
        }
      ],
      "source": [
        "# check shape of data\n",
        "print(x_train.shape)\n",
        "print(x_test.shape)\n",
        "print(y_train.shape)\n",
        "print(y_test.shape)"
      ]
    },
    {
      "cell_type": "code",
      "execution_count": null,
      "metadata": {
        "collapsed": true,
        "id": "9jc6CejE9fhc"
      },
      "outputs": [],
      "source": [
        "# reshape data\n",
        "x = x_train.shape\n",
        "y = x_test.shape\n",
        "x_train = x_train.reshape(x[0], x[1] * x[2])\n",
        "x_test = x_test.reshape(y[0], y[1] * y[2])"
      ]
    },
    {
      "cell_type": "code",
      "execution_count": null,
      "metadata": {
        "collapsed": true,
        "id": "52dMlgf79iJ1"
      },
      "outputs": [],
      "source": [
        "# scale the data\n",
        "scaler = MinMaxScaler()\n",
        "x_train_scaled = scaler.fit_transform(x_train)\n",
        "x_test_scaled = scaler.fit_transform(x_test)"
      ]
    },
    {
      "cell_type": "markdown",
      "metadata": {
        "id": "uEgpEWwjpkC6"
      },
      "source": [
        "### sampling of data"
      ]
    },
    {
      "cell_type": "code",
      "execution_count": null,
      "metadata": {
        "colab": {
          "base_uri": "https://localhost:8080/",
          "height": 454
        },
        "id": "B6cfP6aQpkC7",
        "outputId": "02d79790-8b43-406a-9b33-c065e856a7ad"
      },
      "outputs": [
        {
          "output_type": "display_data",
          "data": {
            "text/plain": [
              "   0    1    2    3    4    5    6    7    8    9    ...  775  776  777  778  \\\n",
              "0  0.0  0.0  0.0  0.0  0.0  0.0  0.0  0.0  0.0  0.0  ...  0.0  0.0  0.0  0.0   \n",
              "1  0.0  0.0  0.0  0.0  0.0  0.0  0.0  0.0  0.0  0.0  ...  0.0  0.0  0.0  0.0   \n",
              "2  0.0  0.0  0.0  0.0  0.0  0.0  0.0  0.0  0.0  0.0  ...  0.0  0.0  0.0  0.0   \n",
              "3  0.0  0.0  0.0  0.0  0.0  0.0  0.0  0.0  0.0  0.0  ...  0.0  0.0  0.0  0.0   \n",
              "4  0.0  0.0  0.0  0.0  0.0  0.0  0.0  0.0  0.0  0.0  ...  0.0  0.0  0.0  0.0   \n",
              "\n",
              "   779  780  781  782  783  0    \n",
              "0  0.0  0.0  0.0  0.0  0.0    5  \n",
              "1  0.0  0.0  0.0  0.0  0.0    0  \n",
              "2  0.0  0.0  0.0  0.0  0.0    4  \n",
              "3  0.0  0.0  0.0  0.0  0.0    1  \n",
              "4  0.0  0.0  0.0  0.0  0.0    9  \n",
              "\n",
              "[5 rows x 785 columns]"
            ],
            "text/html": [
              "\n",
              "  <div id=\"df-62412c9c-cce0-41af-8e31-bc8e3caffbd6\">\n",
              "    <div class=\"colab-df-container\">\n",
              "      <div>\n",
              "<style scoped>\n",
              "    .dataframe tbody tr th:only-of-type {\n",
              "        vertical-align: middle;\n",
              "    }\n",
              "\n",
              "    .dataframe tbody tr th {\n",
              "        vertical-align: top;\n",
              "    }\n",
              "\n",
              "    .dataframe thead th {\n",
              "        text-align: right;\n",
              "    }\n",
              "</style>\n",
              "<table border=\"1\" class=\"dataframe\">\n",
              "  <thead>\n",
              "    <tr style=\"text-align: right;\">\n",
              "      <th></th>\n",
              "      <th>0</th>\n",
              "      <th>1</th>\n",
              "      <th>2</th>\n",
              "      <th>3</th>\n",
              "      <th>4</th>\n",
              "      <th>5</th>\n",
              "      <th>6</th>\n",
              "      <th>7</th>\n",
              "      <th>8</th>\n",
              "      <th>9</th>\n",
              "      <th>...</th>\n",
              "      <th>775</th>\n",
              "      <th>776</th>\n",
              "      <th>777</th>\n",
              "      <th>778</th>\n",
              "      <th>779</th>\n",
              "      <th>780</th>\n",
              "      <th>781</th>\n",
              "      <th>782</th>\n",
              "      <th>783</th>\n",
              "      <th>0</th>\n",
              "    </tr>\n",
              "  </thead>\n",
              "  <tbody>\n",
              "    <tr>\n",
              "      <th>0</th>\n",
              "      <td>0.0</td>\n",
              "      <td>0.0</td>\n",
              "      <td>0.0</td>\n",
              "      <td>0.0</td>\n",
              "      <td>0.0</td>\n",
              "      <td>0.0</td>\n",
              "      <td>0.0</td>\n",
              "      <td>0.0</td>\n",
              "      <td>0.0</td>\n",
              "      <td>0.0</td>\n",
              "      <td>...</td>\n",
              "      <td>0.0</td>\n",
              "      <td>0.0</td>\n",
              "      <td>0.0</td>\n",
              "      <td>0.0</td>\n",
              "      <td>0.0</td>\n",
              "      <td>0.0</td>\n",
              "      <td>0.0</td>\n",
              "      <td>0.0</td>\n",
              "      <td>0.0</td>\n",
              "      <td>5</td>\n",
              "    </tr>\n",
              "    <tr>\n",
              "      <th>1</th>\n",
              "      <td>0.0</td>\n",
              "      <td>0.0</td>\n",
              "      <td>0.0</td>\n",
              "      <td>0.0</td>\n",
              "      <td>0.0</td>\n",
              "      <td>0.0</td>\n",
              "      <td>0.0</td>\n",
              "      <td>0.0</td>\n",
              "      <td>0.0</td>\n",
              "      <td>0.0</td>\n",
              "      <td>...</td>\n",
              "      <td>0.0</td>\n",
              "      <td>0.0</td>\n",
              "      <td>0.0</td>\n",
              "      <td>0.0</td>\n",
              "      <td>0.0</td>\n",
              "      <td>0.0</td>\n",
              "      <td>0.0</td>\n",
              "      <td>0.0</td>\n",
              "      <td>0.0</td>\n",
              "      <td>0</td>\n",
              "    </tr>\n",
              "    <tr>\n",
              "      <th>2</th>\n",
              "      <td>0.0</td>\n",
              "      <td>0.0</td>\n",
              "      <td>0.0</td>\n",
              "      <td>0.0</td>\n",
              "      <td>0.0</td>\n",
              "      <td>0.0</td>\n",
              "      <td>0.0</td>\n",
              "      <td>0.0</td>\n",
              "      <td>0.0</td>\n",
              "      <td>0.0</td>\n",
              "      <td>...</td>\n",
              "      <td>0.0</td>\n",
              "      <td>0.0</td>\n",
              "      <td>0.0</td>\n",
              "      <td>0.0</td>\n",
              "      <td>0.0</td>\n",
              "      <td>0.0</td>\n",
              "      <td>0.0</td>\n",
              "      <td>0.0</td>\n",
              "      <td>0.0</td>\n",
              "      <td>4</td>\n",
              "    </tr>\n",
              "    <tr>\n",
              "      <th>3</th>\n",
              "      <td>0.0</td>\n",
              "      <td>0.0</td>\n",
              "      <td>0.0</td>\n",
              "      <td>0.0</td>\n",
              "      <td>0.0</td>\n",
              "      <td>0.0</td>\n",
              "      <td>0.0</td>\n",
              "      <td>0.0</td>\n",
              "      <td>0.0</td>\n",
              "      <td>0.0</td>\n",
              "      <td>...</td>\n",
              "      <td>0.0</td>\n",
              "      <td>0.0</td>\n",
              "      <td>0.0</td>\n",
              "      <td>0.0</td>\n",
              "      <td>0.0</td>\n",
              "      <td>0.0</td>\n",
              "      <td>0.0</td>\n",
              "      <td>0.0</td>\n",
              "      <td>0.0</td>\n",
              "      <td>1</td>\n",
              "    </tr>\n",
              "    <tr>\n",
              "      <th>4</th>\n",
              "      <td>0.0</td>\n",
              "      <td>0.0</td>\n",
              "      <td>0.0</td>\n",
              "      <td>0.0</td>\n",
              "      <td>0.0</td>\n",
              "      <td>0.0</td>\n",
              "      <td>0.0</td>\n",
              "      <td>0.0</td>\n",
              "      <td>0.0</td>\n",
              "      <td>0.0</td>\n",
              "      <td>...</td>\n",
              "      <td>0.0</td>\n",
              "      <td>0.0</td>\n",
              "      <td>0.0</td>\n",
              "      <td>0.0</td>\n",
              "      <td>0.0</td>\n",
              "      <td>0.0</td>\n",
              "      <td>0.0</td>\n",
              "      <td>0.0</td>\n",
              "      <td>0.0</td>\n",
              "      <td>9</td>\n",
              "    </tr>\n",
              "  </tbody>\n",
              "</table>\n",
              "<p>5 rows × 785 columns</p>\n",
              "</div>\n",
              "      <button class=\"colab-df-convert\" onclick=\"convertToInteractive('df-62412c9c-cce0-41af-8e31-bc8e3caffbd6')\"\n",
              "              title=\"Convert this dataframe to an interactive table.\"\n",
              "              style=\"display:none;\">\n",
              "        \n",
              "  <svg xmlns=\"http://www.w3.org/2000/svg\" height=\"24px\"viewBox=\"0 0 24 24\"\n",
              "       width=\"24px\">\n",
              "    <path d=\"M0 0h24v24H0V0z\" fill=\"none\"/>\n",
              "    <path d=\"M18.56 5.44l.94 2.06.94-2.06 2.06-.94-2.06-.94-.94-2.06-.94 2.06-2.06.94zm-11 1L8.5 8.5l.94-2.06 2.06-.94-2.06-.94L8.5 2.5l-.94 2.06-2.06.94zm10 10l.94 2.06.94-2.06 2.06-.94-2.06-.94-.94-2.06-.94 2.06-2.06.94z\"/><path d=\"M17.41 7.96l-1.37-1.37c-.4-.4-.92-.59-1.43-.59-.52 0-1.04.2-1.43.59L10.3 9.45l-7.72 7.72c-.78.78-.78 2.05 0 2.83L4 21.41c.39.39.9.59 1.41.59.51 0 1.02-.2 1.41-.59l7.78-7.78 2.81-2.81c.8-.78.8-2.07 0-2.86zM5.41 20L4 18.59l7.72-7.72 1.47 1.35L5.41 20z\"/>\n",
              "  </svg>\n",
              "      </button>\n",
              "      \n",
              "  <style>\n",
              "    .colab-df-container {\n",
              "      display:flex;\n",
              "      flex-wrap:wrap;\n",
              "      gap: 12px;\n",
              "    }\n",
              "\n",
              "    .colab-df-convert {\n",
              "      background-color: #E8F0FE;\n",
              "      border: none;\n",
              "      border-radius: 50%;\n",
              "      cursor: pointer;\n",
              "      display: none;\n",
              "      fill: #1967D2;\n",
              "      height: 32px;\n",
              "      padding: 0 0 0 0;\n",
              "      width: 32px;\n",
              "    }\n",
              "\n",
              "    .colab-df-convert:hover {\n",
              "      background-color: #E2EBFA;\n",
              "      box-shadow: 0px 1px 2px rgba(60, 64, 67, 0.3), 0px 1px 3px 1px rgba(60, 64, 67, 0.15);\n",
              "      fill: #174EA6;\n",
              "    }\n",
              "\n",
              "    [theme=dark] .colab-df-convert {\n",
              "      background-color: #3B4455;\n",
              "      fill: #D2E3FC;\n",
              "    }\n",
              "\n",
              "    [theme=dark] .colab-df-convert:hover {\n",
              "      background-color: #434B5C;\n",
              "      box-shadow: 0px 1px 3px 1px rgba(0, 0, 0, 0.15);\n",
              "      filter: drop-shadow(0px 1px 2px rgba(0, 0, 0, 0.3));\n",
              "      fill: #FFFFFF;\n",
              "    }\n",
              "  </style>\n",
              "\n",
              "      <script>\n",
              "        const buttonEl =\n",
              "          document.querySelector('#df-62412c9c-cce0-41af-8e31-bc8e3caffbd6 button.colab-df-convert');\n",
              "        buttonEl.style.display =\n",
              "          google.colab.kernel.accessAllowed ? 'block' : 'none';\n",
              "\n",
              "        async function convertToInteractive(key) {\n",
              "          const element = document.querySelector('#df-62412c9c-cce0-41af-8e31-bc8e3caffbd6');\n",
              "          const dataTable =\n",
              "            await google.colab.kernel.invokeFunction('convertToInteractive',\n",
              "                                                     [key], {});\n",
              "          if (!dataTable) return;\n",
              "\n",
              "          const docLinkHtml = 'Like what you see? Visit the ' +\n",
              "            '<a target=\"_blank\" href=https://colab.research.google.com/notebooks/data_table.ipynb>data table notebook</a>'\n",
              "            + ' to learn more about interactive tables.';\n",
              "          element.innerHTML = '';\n",
              "          dataTable['output_type'] = 'display_data';\n",
              "          await google.colab.output.renderOutput(dataTable, element);\n",
              "          const docLink = document.createElement('div');\n",
              "          docLink.innerHTML = docLinkHtml;\n",
              "          element.appendChild(docLink);\n",
              "        }\n",
              "      </script>\n",
              "    </div>\n",
              "  </div>\n",
              "  "
            ]
          },
          "metadata": {}
        },
        {
          "output_type": "display_data",
          "data": {
            "text/plain": [
              "   0    1    2    3    4    5    6    7    8    9    ...  775  776  777  778  \\\n",
              "0  0.0  0.0  0.0  0.0  0.0  0.0  0.0  0.0  0.0  0.0  ...  0.0  0.0  0.0  0.0   \n",
              "1  0.0  0.0  0.0  0.0  0.0  0.0  0.0  0.0  0.0  0.0  ...  0.0  0.0  0.0  0.0   \n",
              "2  0.0  0.0  0.0  0.0  0.0  0.0  0.0  0.0  0.0  0.0  ...  0.0  0.0  0.0  0.0   \n",
              "3  0.0  0.0  0.0  0.0  0.0  0.0  0.0  0.0  0.0  0.0  ...  0.0  0.0  0.0  0.0   \n",
              "4  0.0  0.0  0.0  0.0  0.0  0.0  0.0  0.0  0.0  0.0  ...  0.0  0.0  0.0  0.0   \n",
              "\n",
              "   779  780  781  782  783  0    \n",
              "0  0.0  0.0  0.0  0.0  0.0    7  \n",
              "1  0.0  0.0  0.0  0.0  0.0    2  \n",
              "2  0.0  0.0  0.0  0.0  0.0    1  \n",
              "3  0.0  0.0  0.0  0.0  0.0    0  \n",
              "4  0.0  0.0  0.0  0.0  0.0    4  \n",
              "\n",
              "[5 rows x 785 columns]"
            ],
            "text/html": [
              "\n",
              "  <div id=\"df-4a0c1822-965e-4cac-80b3-1049a9366ac0\">\n",
              "    <div class=\"colab-df-container\">\n",
              "      <div>\n",
              "<style scoped>\n",
              "    .dataframe tbody tr th:only-of-type {\n",
              "        vertical-align: middle;\n",
              "    }\n",
              "\n",
              "    .dataframe tbody tr th {\n",
              "        vertical-align: top;\n",
              "    }\n",
              "\n",
              "    .dataframe thead th {\n",
              "        text-align: right;\n",
              "    }\n",
              "</style>\n",
              "<table border=\"1\" class=\"dataframe\">\n",
              "  <thead>\n",
              "    <tr style=\"text-align: right;\">\n",
              "      <th></th>\n",
              "      <th>0</th>\n",
              "      <th>1</th>\n",
              "      <th>2</th>\n",
              "      <th>3</th>\n",
              "      <th>4</th>\n",
              "      <th>5</th>\n",
              "      <th>6</th>\n",
              "      <th>7</th>\n",
              "      <th>8</th>\n",
              "      <th>9</th>\n",
              "      <th>...</th>\n",
              "      <th>775</th>\n",
              "      <th>776</th>\n",
              "      <th>777</th>\n",
              "      <th>778</th>\n",
              "      <th>779</th>\n",
              "      <th>780</th>\n",
              "      <th>781</th>\n",
              "      <th>782</th>\n",
              "      <th>783</th>\n",
              "      <th>0</th>\n",
              "    </tr>\n",
              "  </thead>\n",
              "  <tbody>\n",
              "    <tr>\n",
              "      <th>0</th>\n",
              "      <td>0.0</td>\n",
              "      <td>0.0</td>\n",
              "      <td>0.0</td>\n",
              "      <td>0.0</td>\n",
              "      <td>0.0</td>\n",
              "      <td>0.0</td>\n",
              "      <td>0.0</td>\n",
              "      <td>0.0</td>\n",
              "      <td>0.0</td>\n",
              "      <td>0.0</td>\n",
              "      <td>...</td>\n",
              "      <td>0.0</td>\n",
              "      <td>0.0</td>\n",
              "      <td>0.0</td>\n",
              "      <td>0.0</td>\n",
              "      <td>0.0</td>\n",
              "      <td>0.0</td>\n",
              "      <td>0.0</td>\n",
              "      <td>0.0</td>\n",
              "      <td>0.0</td>\n",
              "      <td>7</td>\n",
              "    </tr>\n",
              "    <tr>\n",
              "      <th>1</th>\n",
              "      <td>0.0</td>\n",
              "      <td>0.0</td>\n",
              "      <td>0.0</td>\n",
              "      <td>0.0</td>\n",
              "      <td>0.0</td>\n",
              "      <td>0.0</td>\n",
              "      <td>0.0</td>\n",
              "      <td>0.0</td>\n",
              "      <td>0.0</td>\n",
              "      <td>0.0</td>\n",
              "      <td>...</td>\n",
              "      <td>0.0</td>\n",
              "      <td>0.0</td>\n",
              "      <td>0.0</td>\n",
              "      <td>0.0</td>\n",
              "      <td>0.0</td>\n",
              "      <td>0.0</td>\n",
              "      <td>0.0</td>\n",
              "      <td>0.0</td>\n",
              "      <td>0.0</td>\n",
              "      <td>2</td>\n",
              "    </tr>\n",
              "    <tr>\n",
              "      <th>2</th>\n",
              "      <td>0.0</td>\n",
              "      <td>0.0</td>\n",
              "      <td>0.0</td>\n",
              "      <td>0.0</td>\n",
              "      <td>0.0</td>\n",
              "      <td>0.0</td>\n",
              "      <td>0.0</td>\n",
              "      <td>0.0</td>\n",
              "      <td>0.0</td>\n",
              "      <td>0.0</td>\n",
              "      <td>...</td>\n",
              "      <td>0.0</td>\n",
              "      <td>0.0</td>\n",
              "      <td>0.0</td>\n",
              "      <td>0.0</td>\n",
              "      <td>0.0</td>\n",
              "      <td>0.0</td>\n",
              "      <td>0.0</td>\n",
              "      <td>0.0</td>\n",
              "      <td>0.0</td>\n",
              "      <td>1</td>\n",
              "    </tr>\n",
              "    <tr>\n",
              "      <th>3</th>\n",
              "      <td>0.0</td>\n",
              "      <td>0.0</td>\n",
              "      <td>0.0</td>\n",
              "      <td>0.0</td>\n",
              "      <td>0.0</td>\n",
              "      <td>0.0</td>\n",
              "      <td>0.0</td>\n",
              "      <td>0.0</td>\n",
              "      <td>0.0</td>\n",
              "      <td>0.0</td>\n",
              "      <td>...</td>\n",
              "      <td>0.0</td>\n",
              "      <td>0.0</td>\n",
              "      <td>0.0</td>\n",
              "      <td>0.0</td>\n",
              "      <td>0.0</td>\n",
              "      <td>0.0</td>\n",
              "      <td>0.0</td>\n",
              "      <td>0.0</td>\n",
              "      <td>0.0</td>\n",
              "      <td>0</td>\n",
              "    </tr>\n",
              "    <tr>\n",
              "      <th>4</th>\n",
              "      <td>0.0</td>\n",
              "      <td>0.0</td>\n",
              "      <td>0.0</td>\n",
              "      <td>0.0</td>\n",
              "      <td>0.0</td>\n",
              "      <td>0.0</td>\n",
              "      <td>0.0</td>\n",
              "      <td>0.0</td>\n",
              "      <td>0.0</td>\n",
              "      <td>0.0</td>\n",
              "      <td>...</td>\n",
              "      <td>0.0</td>\n",
              "      <td>0.0</td>\n",
              "      <td>0.0</td>\n",
              "      <td>0.0</td>\n",
              "      <td>0.0</td>\n",
              "      <td>0.0</td>\n",
              "      <td>0.0</td>\n",
              "      <td>0.0</td>\n",
              "      <td>0.0</td>\n",
              "      <td>4</td>\n",
              "    </tr>\n",
              "  </tbody>\n",
              "</table>\n",
              "<p>5 rows × 785 columns</p>\n",
              "</div>\n",
              "      <button class=\"colab-df-convert\" onclick=\"convertToInteractive('df-4a0c1822-965e-4cac-80b3-1049a9366ac0')\"\n",
              "              title=\"Convert this dataframe to an interactive table.\"\n",
              "              style=\"display:none;\">\n",
              "        \n",
              "  <svg xmlns=\"http://www.w3.org/2000/svg\" height=\"24px\"viewBox=\"0 0 24 24\"\n",
              "       width=\"24px\">\n",
              "    <path d=\"M0 0h24v24H0V0z\" fill=\"none\"/>\n",
              "    <path d=\"M18.56 5.44l.94 2.06.94-2.06 2.06-.94-2.06-.94-.94-2.06-.94 2.06-2.06.94zm-11 1L8.5 8.5l.94-2.06 2.06-.94-2.06-.94L8.5 2.5l-.94 2.06-2.06.94zm10 10l.94 2.06.94-2.06 2.06-.94-2.06-.94-.94-2.06-.94 2.06-2.06.94z\"/><path d=\"M17.41 7.96l-1.37-1.37c-.4-.4-.92-.59-1.43-.59-.52 0-1.04.2-1.43.59L10.3 9.45l-7.72 7.72c-.78.78-.78 2.05 0 2.83L4 21.41c.39.39.9.59 1.41.59.51 0 1.02-.2 1.41-.59l7.78-7.78 2.81-2.81c.8-.78.8-2.07 0-2.86zM5.41 20L4 18.59l7.72-7.72 1.47 1.35L5.41 20z\"/>\n",
              "  </svg>\n",
              "      </button>\n",
              "      \n",
              "  <style>\n",
              "    .colab-df-container {\n",
              "      display:flex;\n",
              "      flex-wrap:wrap;\n",
              "      gap: 12px;\n",
              "    }\n",
              "\n",
              "    .colab-df-convert {\n",
              "      background-color: #E8F0FE;\n",
              "      border: none;\n",
              "      border-radius: 50%;\n",
              "      cursor: pointer;\n",
              "      display: none;\n",
              "      fill: #1967D2;\n",
              "      height: 32px;\n",
              "      padding: 0 0 0 0;\n",
              "      width: 32px;\n",
              "    }\n",
              "\n",
              "    .colab-df-convert:hover {\n",
              "      background-color: #E2EBFA;\n",
              "      box-shadow: 0px 1px 2px rgba(60, 64, 67, 0.3), 0px 1px 3px 1px rgba(60, 64, 67, 0.15);\n",
              "      fill: #174EA6;\n",
              "    }\n",
              "\n",
              "    [theme=dark] .colab-df-convert {\n",
              "      background-color: #3B4455;\n",
              "      fill: #D2E3FC;\n",
              "    }\n",
              "\n",
              "    [theme=dark] .colab-df-convert:hover {\n",
              "      background-color: #434B5C;\n",
              "      box-shadow: 0px 1px 3px 1px rgba(0, 0, 0, 0.15);\n",
              "      filter: drop-shadow(0px 1px 2px rgba(0, 0, 0, 0.3));\n",
              "      fill: #FFFFFF;\n",
              "    }\n",
              "  </style>\n",
              "\n",
              "      <script>\n",
              "        const buttonEl =\n",
              "          document.querySelector('#df-4a0c1822-965e-4cac-80b3-1049a9366ac0 button.colab-df-convert');\n",
              "        buttonEl.style.display =\n",
              "          google.colab.kernel.accessAllowed ? 'block' : 'none';\n",
              "\n",
              "        async function convertToInteractive(key) {\n",
              "          const element = document.querySelector('#df-4a0c1822-965e-4cac-80b3-1049a9366ac0');\n",
              "          const dataTable =\n",
              "            await google.colab.kernel.invokeFunction('convertToInteractive',\n",
              "                                                     [key], {});\n",
              "          if (!dataTable) return;\n",
              "\n",
              "          const docLinkHtml = 'Like what you see? Visit the ' +\n",
              "            '<a target=\"_blank\" href=https://colab.research.google.com/notebooks/data_table.ipynb>data table notebook</a>'\n",
              "            + ' to learn more about interactive tables.';\n",
              "          element.innerHTML = '';\n",
              "          dataTable['output_type'] = 'display_data';\n",
              "          await google.colab.output.renderOutput(dataTable, element);\n",
              "          const docLink = document.createElement('div');\n",
              "          docLink.innerHTML = docLinkHtml;\n",
              "          element.appendChild(docLink);\n",
              "        }\n",
              "      </script>\n",
              "    </div>\n",
              "  </div>\n",
              "  "
            ]
          },
          "metadata": {}
        }
      ],
      "source": [
        "# create dataframe of train data\n",
        "df_x_train_scaled = pd.DataFrame(x_train_scaled)\n",
        "df_y_train = pd.DataFrame(y_train)\n",
        "df_train = pd.concat([df_x_train_scaled, df_y_train], axis=1)\n",
        "display(df_train.head())       \n",
        "\n",
        "# create dataframe of test data\n",
        "df_x_test_scaled = pd.DataFrame(x_test_scaled)\n",
        "df_y_test = pd.DataFrame(y_test)\n",
        "df_test = pd.concat([df_x_test_scaled, df_y_test], axis=1)\n",
        "display(df_test.head()) "
      ]
    },
    {
      "cell_type": "code",
      "execution_count": null,
      "metadata": {
        "colab": {
          "base_uri": "https://localhost:8080/"
        },
        "id": "iAmsU5SipkC9",
        "outputId": "ca2bcdd9-d67d-4460-8765-58d001e5831e"
      },
      "outputs": [
        {
          "output_type": "stream",
          "name": "stdout",
          "text": [
            "(60000, 785)\n",
            "(10000, 785)\n"
          ]
        }
      ],
      "source": [
        "# check shape of dataframes\n",
        "print(df_train.shape)\n",
        "print(df_test.shape)"
      ]
    },
    {
      "cell_type": "markdown",
      "source": [
        "# sample only 15000 data points to train because of resource constraints on my PC"
      ],
      "metadata": {
        "id": "wVXzV-vJChtv"
      }
    },
    {
      "cell_type": "code",
      "execution_count": null,
      "metadata": {
        "colab": {
          "base_uri": "https://localhost:8080/"
        },
        "id": "qoLjwu1ppkDA",
        "outputId": "2525abef-029e-4b11-b02e-0ff95ee3620b"
      },
      "outputs": [
        {
          "output_type": "stream",
          "name": "stdout",
          "text": [
            "(15000, 785)\n",
            "(15000, 784)\n",
            "(15000,)\n"
          ]
        }
      ],
      "source": [
        "sampled_data = df_train.sample(15000)\n",
        "\n",
        "# extract x and y values\n",
        "x_train_sample1 = sampled_data.iloc[:, :-1]\n",
        "y_train_sample1 = sampled_data.iloc[:, -1]\n",
        "\n",
        "# print shapes\n",
        "print(sampled_data.shape)\n",
        "print(x_train_sample1.shape)\n",
        "print(y_train_sample1.shape)"
      ]
    },
    {
      "cell_type": "code",
      "execution_count": null,
      "metadata": {
        "collapsed": true,
        "id": "2ovjokJQ9jz9"
      },
      "outputs": [],
      "source": [
        "# Build Linear SVM Classifier\n",
        "model = LinearSVC()\n",
        "model.fit(x_train_sample1, y_train_sample1)\n",
        "y_pred = model.predict(x_test_scaled)"
      ]
    },
    {
      "cell_type": "code",
      "execution_count": null,
      "metadata": {
        "colab": {
          "base_uri": "https://localhost:8080/"
        },
        "id": "BLvBrQP39ph7",
        "outputId": "c9a3be5f-b45d-49f1-a692-a668a969a3a6"
      },
      "outputs": [
        {
          "output_type": "stream",
          "name": "stdout",
          "text": [
            "[7 2 1 0 4 1 4 1 6 9 0 6 9 0 1 5 9 7 3 4]\n"
          ]
        }
      ],
      "source": [
        "# print first 20 predictions on test data\n",
        "print(y_pred[:20])"
      ]
    },
    {
      "cell_type": "code",
      "execution_count": null,
      "metadata": {
        "colab": {
          "base_uri": "https://localhost:8080/"
        },
        "id": "nypcPlwc-H91",
        "outputId": "ceb349ae-0368-48e7-c994-01a650c80296"
      },
      "outputs": [
        {
          "output_type": "stream",
          "name": "stdout",
          "text": [
            "confusion metrix for MNIST Dataset\n",
            "\n",
            "[[ 943    0    3    3    2    9    9    3    6    2]\n",
            " [   0 1113    3    2    0    3    5    1    8    0]\n",
            " [  15   13  887   21    8    7   12   16   47    6]\n",
            " [   7    2   18  904    3   24    3   13   27    9]\n",
            " [   3    0    7    3  899    2    6    5    6   51]\n",
            " [  14    3    3   41    8  755   16   14   30    8]\n",
            " [   8    6    6    1    6   22  899    2    7    1]\n",
            " [   4   12   22    7    8    7    1  921    4   42]\n",
            " [  10   17    9   30   14   39   14   10  821   10]\n",
            " [   7    7    2   13   35   15    0   36   16  878]]\n"
          ]
        }
      ],
      "source": [
        "# display confusion matrix\n",
        "print(\"confusion metrix for MNIST Dataset\")\n",
        "print()\n",
        "matrix = confusion_matrix(y_test, y_pred)\n",
        "print(matrix)"
      ]
    },
    {
      "cell_type": "markdown",
      "metadata": {
        "id": "VnIA_6KTpkDF"
      },
      "source": [
        "### Function to calcuate f1 score from Scratch"
      ]
    },
    {
      "cell_type": "code",
      "execution_count": null,
      "metadata": {
        "collapsed": true,
        "id": "8ZXTxvIC_YuU"
      },
      "outputs": [],
      "source": [
        "def classwise_f1_score(c_matrix):\n",
        "    class_wise_f1_score_1 = []\n",
        "    for i, row in enumerate(c_matrix):\n",
        "        precision = row[i] / sum(row)\n",
        "        temp = 0\n",
        "        for r in c_matrix:\n",
        "            temp += r[i]\n",
        "            recall = row[i] / temp\n",
        "            f1 = 2 * recall * precision / (precision + recall)\n",
        "        class_wise_f1_score_1.append(f1)\n",
        "    return class_wise_f1_score_1\n",
        "\n",
        "\n",
        "# call function and print classwise f1 score\n",
        "class_wise_f1_score_1 = classwise_f1_score(matrix)"
      ]
    },
    {
      "cell_type": "code",
      "execution_count": null,
      "metadata": {
        "colab": {
          "base_uri": "https://localhost:8080/"
        },
        "id": "5nTLOcc4BabD",
        "outputId": "05a9e0b2-b7b9-49f3-a77e-1684775e208f"
      },
      "outputs": [
        {
          "output_type": "stream",
          "name": "stdout",
          "text": [
            "[0.9472626820693119, 0.9644714038128249, 0.890562248995984, 0.8884520884520885, 0.9150127226463104, 0.8507042253521128, 0.934997399895996, 0.8989751098096632, 0.843782117163412, 0.871031746031746]\n"
          ]
        }
      ],
      "source": [
        "# class wise f1 score using sklearn library\n",
        "f1_scores = f1_score(y_test, y_pred, average=None)\n",
        "class_wise_f1_score_2 = [score for score in f1_scores]\n",
        "\n",
        "# print f1 score given by sklearn inbuilt function\n",
        "print(class_wise_f1_score_2)"
      ]
    },
    {
      "cell_type": "code",
      "execution_count": null,
      "metadata": {
        "colab": {
          "base_uri": "https://localhost:8080/"
        },
        "id": "b5i03dNYDn0B",
        "outputId": "0d9b3df8-4d2d-4104-8765-4361b841454c"
      },
      "outputs": [
        {
          "output_type": "stream",
          "name": "stdout",
          "text": [
            "True\n"
          ]
        }
      ],
      "source": [
        "# check both are same or not\n",
        "print(class_wise_f1_score_1 == class_wise_f1_score_2)"
      ]
    },
    {
      "cell_type": "code",
      "execution_count": null,
      "metadata": {
        "colab": {
          "base_uri": "https://localhost:8080/"
        },
        "id": "iXjpCiZ5FqHJ",
        "outputId": "bbb98893-888e-4931-ef97-6a3252bcadca"
      },
      "outputs": [
        {
          "output_type": "stream",
          "name": "stdout",
          "text": [
            "accuracy score of linear SVM is : 0.902\n"
          ]
        }
      ],
      "source": [
        "# report the accuracy score\n",
        "acc = accuracy_score(y_test, y_pred)\n",
        "print(\"accuracy score of linear SVM is :\", acc)"
      ]
    },
    {
      "cell_type": "markdown",
      "metadata": {
        "id": "8r7LWvjmG4mV"
      },
      "source": [
        "# Non Linear SVM"
      ]
    },
    {
      "cell_type": "code",
      "execution_count": null,
      "metadata": {
        "colab": {
          "base_uri": "https://localhost:8080/"
        },
        "id": "9VH4nf2IGDhA",
        "outputId": "063c67af-24d8-4ec1-c454-2cd3324302f7"
      },
      "outputs": [
        {
          "output_type": "stream",
          "name": "stdout",
          "text": [
            "accuracy score of Non linear SVM with RBF kernel is : 0.902\n"
          ]
        }
      ],
      "source": [
        "# Non linear model with RBF kernel\n",
        "model1 = SVC(kernel='rbf')\n",
        "model1.fit(x_train_sample1, y_train_sample1)\n",
        "y_pred1 = model.predict(x_test_scaled)\n",
        "acc1 = accuracy_score(y_test, y_pred1) \n",
        "print(\"accuracy score of Non linear SVM with RBF kernel is :\", acc1)"
      ]
    },
    {
      "cell_type": "code",
      "execution_count": null,
      "metadata": {
        "colab": {
          "base_uri": "https://localhost:8080/"
        },
        "id": "hw67zF__HtD4",
        "outputId": "d71128d1-08a5-4daa-8ba6-0e61af699b88"
      },
      "outputs": [
        {
          "output_type": "stream",
          "name": "stdout",
          "text": [
            "accuracy score of Non linear SVM with Polynomial kernel is : 0.902\n"
          ]
        }
      ],
      "source": [
        "# Non linear model with Polynomial kernel\n",
        "model2 = SVC(kernel='poly')\n",
        "model2.fit(x_train_sample1, y_train_sample1)\n",
        "y_pred2 = model.predict(x_test_scaled)\n",
        "acc2 = accuracy_score(y_test, y_pred2)\n",
        "print(\"accuracy score of Non linear SVM with Polynomial kernel is :\", acc2)"
      ]
    },
    {
      "cell_type": "markdown",
      "metadata": {
        "id": "mEmU_7d1IuOm"
      },
      "source": [
        "# Find the optimal values of cost C and gamma using Grid Search Cross Validation"
      ]
    },
    {
      "cell_type": "code",
      "execution_count": null,
      "metadata": {
        "id": "354KGk19IoFP",
        "colab": {
          "base_uri": "https://localhost:8080/"
        },
        "outputId": "ae0542d3-0352-41cb-b5f9-7a61bacec140"
      },
      "outputs": [
        {
          "output_type": "stream",
          "name": "stdout",
          "text": [
            "Fitting 5 folds for each of 4 candidates, totalling 20 fits\n",
            "[CV] END ........................C=10, gamma=0.1, kernel=rbf; total time= 3.0min\n",
            "[CV] END ........................C=10, gamma=0.1, kernel=rbf; total time= 3.2min\n",
            "[CV] END ........................C=10, gamma=0.1, kernel=rbf; total time= 3.1min\n",
            "[CV] END ........................C=10, gamma=0.1, kernel=rbf; total time= 3.0min\n",
            "[CV] END ........................C=10, gamma=0.1, kernel=rbf; total time= 3.1min\n",
            "[CV] END .......................C=10, gamma=0.01, kernel=rbf; total time=  30.4s\n",
            "[CV] END .......................C=10, gamma=0.01, kernel=rbf; total time=  28.9s\n",
            "[CV] END .......................C=10, gamma=0.01, kernel=rbf; total time=  29.2s\n",
            "[CV] END .......................C=10, gamma=0.01, kernel=rbf; total time=  26.8s\n",
            "[CV] END .......................C=10, gamma=0.01, kernel=rbf; total time=  27.3s\n",
            "[CV] END .......................C=100, gamma=0.1, kernel=rbf; total time= 2.8min\n",
            "[CV] END .......................C=100, gamma=0.1, kernel=rbf; total time= 2.8min\n",
            "[CV] END .......................C=100, gamma=0.1, kernel=rbf; total time= 2.9min\n",
            "[CV] END .......................C=100, gamma=0.1, kernel=rbf; total time= 2.7min\n",
            "[CV] END .......................C=100, gamma=0.1, kernel=rbf; total time= 2.7min\n",
            "[CV] END ......................C=100, gamma=0.01, kernel=rbf; total time=  26.6s\n",
            "[CV] END ......................C=100, gamma=0.01, kernel=rbf; total time=  26.2s\n",
            "[CV] END ......................C=100, gamma=0.01, kernel=rbf; total time=  30.8s\n",
            "[CV] END ......................C=100, gamma=0.01, kernel=rbf; total time=  33.5s\n",
            "[CV] END ......................C=100, gamma=0.01, kernel=rbf; total time=  33.4s\n"
          ]
        }
      ],
      "source": [
        "# set parameter values\n",
        "param_grid = {'C': [10, 100], 'gamma': [0.1, 0.01], 'kernel': ['rbf']} \n",
        "\n",
        "# train model on given values of C and Gamma  \n",
        "grid = GridSearchCV(SVC(), param_grid, refit = True, verbose=2)\n",
        "grid.fit(x_train_sample1, y_train_sample1)\n",
        "y_pred_grid = grid.predict(x_test_scaled)"
      ]
    },
    {
      "cell_type": "code",
      "execution_count": null,
      "metadata": {
        "id": "Nq8tWWGiSEYa",
        "colab": {
          "base_uri": "https://localhost:8080/"
        },
        "outputId": "264e527d-cea8-4437-880c-c9bf0b83cc9e"
      },
      "outputs": [
        {
          "output_type": "stream",
          "name": "stdout",
          "text": [
            "{'C': 100, 'gamma': 0.01, 'kernel': 'rbf'}\n"
          ]
        }
      ],
      "source": [
        "# print best parameter\n",
        "print(grid.best_params_)"
      ]
    },
    {
      "cell_type": "markdown",
      "metadata": {
        "id": "CxlPQ4RjSK0g"
      },
      "source": [
        "# Build the final model with Best hyperparameters"
      ]
    },
    {
      "cell_type": "code",
      "execution_count": null,
      "metadata": {
        "collapsed": true,
        "id": "hN1ryCCCSYaS"
      },
      "outputs": [],
      "source": [
        "final_model = SVC(kernel='rbf', C=grid.best_params_['C'], gamma=grid.best_params_['gamma'])\n",
        "final_model.fit(x_train_sample1, y_train_sample1)\n",
        "y_pred_final = final_model.predict(x_test_scaled)"
      ]
    },
    {
      "cell_type": "code",
      "execution_count": null,
      "metadata": {
        "id": "fTTyEddFUIVG",
        "colab": {
          "base_uri": "https://localhost:8080/"
        },
        "outputId": "12532d66-47dc-4c56-b1b2-c8e7ab827048"
      },
      "outputs": [
        {
          "output_type": "stream",
          "name": "stdout",
          "text": [
            "confusion metrix for MNIST Dataset using Best parameters\n",
            "\n",
            "[[ 972    0    1    1    0    2    1    1    2    0]\n",
            " [   0 1124    2    1    1    1    4    0    2    0]\n",
            " [   6    2  999    2    2    0    1    8   10    2]\n",
            " [   0    2    7  979    0    9    1    3    7    2]\n",
            " [   1    0    3    0  961    0    5    1    1   10]\n",
            " [   4    0    0   16    0  865    3    0    3    1]\n",
            " [   7    2    3    0    3    7  935    0    1    0]\n",
            " [   1    4   12    4    4    0    0  991    0   12]\n",
            " [   5    1    4    8    5    6    3    4  934    4]\n",
            " [   5    8    2    9   13    3    1    7    3  958]]\n"
          ]
        }
      ],
      "source": [
        "# display confusion metrix of final model\n",
        "print(\"confusion metrix for MNIST Dataset using Best parameters\")\n",
        "print()\n",
        "matrix = confusion_matrix(y_test, y_pred_final)\n",
        "print(matrix)"
      ]
    },
    {
      "cell_type": "code",
      "execution_count": null,
      "metadata": {
        "id": "CZkj2fNTUIb0",
        "scrolled": false,
        "colab": {
          "base_uri": "https://localhost:8080/"
        },
        "outputId": "5c66386b-c269-46a5-ec8d-8ac97e145083"
      },
      "outputs": [
        {
          "output_type": "stream",
          "name": "stdout",
          "text": [
            "accuracy score of SVC on best choosen parameters is : 0.9718\n"
          ]
        }
      ],
      "source": [
        "# print accuracy\n",
        "acc_final = accuracy_score(y_test, y_pred_final)\n",
        "print(\"accuracy score of SVC on best choosen parameters is :\", acc_final)"
      ]
    },
    {
      "cell_type": "markdown",
      "source": [
        "## Build SVM on Support vectors Data"
      ],
      "metadata": {
        "id": "j2lPDd74_InB"
      }
    },
    {
      "cell_type": "code",
      "execution_count": null,
      "metadata": {
        "collapsed": true,
        "id": "Jh-K9VYOpkDR"
      },
      "outputs": [],
      "source": [
        "# extract data of only support vectors\n",
        "support_vectors_x = final_model.support_vectors_\n",
        "index_of_support_vectors = final_model.support_\n",
        "support_vectors_y = []\n",
        "\n",
        "for i in index_of_support_vectors:\n",
        "  support_vectors_y.append(sampled_data.iloc[i, -1])\n",
        "\n",
        "# create dataframe of X and y values of support vectors \n",
        "df_support_vector_x = pd.DataFrame(support_vectors_x)\n",
        "df_support_vector_y = pd.DataFrame(support_vectors_y, columns=['label'])\n",
        "df_support_vector = pd.concat([df_support_vector_x, df_support_vector_y], axis=1)"
      ]
    },
    {
      "cell_type": "code",
      "source": [
        "# split the data into train and test\n",
        "from sklearn.model_selection import train_test_split\n",
        "X_train, X_test1, y_train, y_test1 = train_test_split(df_support_vector_x, df_support_vector_y, test_size=0.3, random_state=20)\n",
        "\n",
        "# train a model with new data\n",
        "final_model = SVC(kernel='rbf')\n",
        "final_model.fit(X_train, y_train)\n",
        "y_pred_final1 = final_model.predict(X_train)\n",
        "y_pred_final2 = final_model.predict(X_test1)"
      ],
      "metadata": {
        "id": "ohbHkhB37ZB0"
      },
      "execution_count": null,
      "outputs": []
    },
    {
      "cell_type": "code",
      "source": [
        "# print accuracy on train and test data\n",
        "acc_final1 = accuracy_score(y_train, y_pred_final1)\n",
        "acc_final2 = accuracy_score(y_test1, y_pred_final2)\n",
        "print(\"accuracy score of SVC on Support vectors on train data is :\", acc_final1)\n",
        "print(\"accuracy score of SVC on Support vectors on test data is :\", acc_final2)"
      ],
      "metadata": {
        "colab": {
          "base_uri": "https://localhost:8080/"
        },
        "id": "efPcPSAV9UUT",
        "outputId": "6544c283-dc83-410b-a448-63bea6f1e572"
      },
      "execution_count": null,
      "outputs": [
        {
          "output_type": "stream",
          "name": "stdout",
          "text": [
            "accuracy score of SVC on Support vectors on train data is : 0.9526479750778816\n",
            "accuracy score of SVC on Support vectors on test data is : 0.8569353667392883\n"
          ]
        }
      ]
    },
    {
      "cell_type": "markdown",
      "source": [
        "# Observation with previous models"
      ],
      "metadata": {
        "id": "p4dWuy7NALEM"
      }
    },
    {
      "cell_type": "markdown",
      "source": [
        "Training Accuracy is higher than all model except the model which was trained  with best hyperparameter.\n",
        "\n",
        "Test Accuracy is lower than all models accuracy.\n",
        "\n",
        "Beacuse Spliting support vectors data Final hyperplane of SVM will chenge So accuracy will change accordingly."
      ],
      "metadata": {
        "id": "kJLwP0JsAPVN"
      }
    }
  ],
  "metadata": {
    "colab": {
      "collapsed_sections": [],
      "provenance": []
    },
    "kernelspec": {
      "display_name": "Python 3",
      "language": "python",
      "name": "python3"
    },
    "language_info": {
      "codemirror_mode": {
        "name": "ipython",
        "version": 3
      },
      "file_extension": ".py",
      "mimetype": "text/x-python",
      "name": "python",
      "nbconvert_exporter": "python",
      "pygments_lexer": "ipython3",
      "version": "3.6.3"
    }
  },
  "nbformat": 4,
  "nbformat_minor": 0
}