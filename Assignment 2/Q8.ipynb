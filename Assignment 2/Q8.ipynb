{
 "cells": [
  {
   "cell_type": "code",
   "execution_count": 9,
   "metadata": {
    "collapsed": true
   },
   "outputs": [],
   "source": [
    "# import libraries\n",
    "\n",
    "import pandas as pd\n",
    "import numpy as np\n",
    "import matplotlib.pyplot as plt\n",
    "import seaborn as sns\n",
    "import warnings\n",
    "warnings.filterwarnings(\"ignore\")\n",
    "from sklearn.linear_model import LogisticRegression\n",
    "from sklearn.metrics import accuracy_score\n",
    "from sklearn import datasets\n",
    "from sklearn.model_selection import LeavePOut, StratifiedKFold, ShuffleSplit, cross_val_score, train_test_split"
   ]
  },
  {
   "cell_type": "code",
   "execution_count": 10,
   "metadata": {
    "collapsed": true
   },
   "outputs": [],
   "source": [
    "# load data from sklearn \n",
    "\n",
    "iris = datasets.load_iris()\n",
    "X = iris.data\n",
    "y = iris.target\n",
    "model = LogisticRegression()"
   ]
  },
  {
   "cell_type": "code",
   "execution_count": 11,
   "metadata": {},
   "outputs": [
    {
     "name": "stdout",
     "output_type": "stream",
     "text": [
      "Monte carlo cross validation score is :  0.9490000000000001\n"
     ]
    }
   ],
   "source": [
    "# Monte carlo cross validation\n",
    "\n",
    "shuffle = ShuffleSplit(test_size=0.2, n_splits=200)\n",
    "val_score1 = cross_val_score(model, X, y, cv=shuffle).mean()\n",
    "print(\"Monte carlo cross validation score is : \", val_score1)"
   ]
  },
  {
   "cell_type": "code",
   "execution_count": 12,
   "metadata": {},
   "outputs": [
    {
     "name": "stdout",
     "output_type": "stream",
     "text": [
      "Leave P Out cross validation score is :  0.9553467561521253\n"
     ]
    }
   ],
   "source": [
    "# leave p out cross validation\n",
    "\n",
    "lp = LeavePOut(p=2)\n",
    "lp.get_n_splits(X)\n",
    "val_score2 = cross_val_score(model, X, y, cv=lp).mean()\n",
    "print(\"Leave P Out cross validation score is : \", val_score2)"
   ]
  },
  {
   "cell_type": "code",
   "execution_count": 13,
   "metadata": {},
   "outputs": [
    {
     "name": "stdout",
     "output_type": "stream",
     "text": [
      "Stratified 3 fold cross validation score is :  0.9468954248366014\n"
     ]
    }
   ],
   "source": [
    "# Stratified 3-fold cross-validation\n",
    "\n",
    "s = StratifiedKFold(n_splits=3)\n",
    "s.get_n_splits(X)\n",
    "val_score3 = cross_val_score(model, X, y, cv=s).mean()\n",
    "print(\"Stratified 3 fold cross validation score is : \", val_score3)"
   ]
  },
  {
   "cell_type": "code",
   "execution_count": 14,
   "metadata": {},
   "outputs": [
    {
     "name": "stdout",
     "output_type": "stream",
     "text": [
      "Cross validation on Hold out cross validation is :  0.8333333333333334\n"
     ]
    }
   ],
   "source": [
    "# Hold out cross validation\n",
    "\n",
    "x_train, x_test, y_train, y_test = train_test_split(X, y, test_size=0.2, train_size=0.7, random_state=1)\n",
    "model.fit(x_train, y_train)\n",
    "y_pred = model.predict(x_test)\n",
    "val_score4 = accuracy_score(y_pred, y_test)\n",
    "print(\"Cross validation on Hold out cross validation is : \", val_score4)"
   ]
  },
  {
   "cell_type": "code",
   "execution_count": 15,
   "metadata": {},
   "outputs": [
    {
     "data": {
      "text/html": [
       "<div>\n",
       "<style scoped>\n",
       "    .dataframe tbody tr th:only-of-type {\n",
       "        vertical-align: middle;\n",
       "    }\n",
       "\n",
       "    .dataframe tbody tr th {\n",
       "        vertical-align: top;\n",
       "    }\n",
       "\n",
       "    .dataframe thead th {\n",
       "        text-align: right;\n",
       "    }\n",
       "</style>\n",
       "<table border=\"1\" class=\"dataframe\">\n",
       "  <thead>\n",
       "    <tr style=\"text-align: right;\">\n",
       "      <th></th>\n",
       "      <th>Cross Validation score</th>\n",
       "    </tr>\n",
       "  </thead>\n",
       "  <tbody>\n",
       "    <tr>\n",
       "      <th>Monte Carlo</th>\n",
       "      <td>0.949000</td>\n",
       "    </tr>\n",
       "    <tr>\n",
       "      <th>Leave P-Out</th>\n",
       "      <td>0.955347</td>\n",
       "    </tr>\n",
       "    <tr>\n",
       "      <th>Stratified 3-fold</th>\n",
       "      <td>0.946895</td>\n",
       "    </tr>\n",
       "    <tr>\n",
       "      <th>Hold out</th>\n",
       "      <td>0.833333</td>\n",
       "    </tr>\n",
       "  </tbody>\n",
       "</table>\n",
       "</div>"
      ],
      "text/plain": [
       "                   Cross Validation score\n",
       "Monte Carlo                      0.949000\n",
       "Leave P-Out                      0.955347\n",
       "Stratified 3-fold                0.946895\n",
       "Hold out                         0.833333"
      ]
     },
     "execution_count": 15,
     "metadata": {},
     "output_type": "execute_result"
    }
   ],
   "source": [
    "# create table of cross validation score\n",
    "\n",
    "df = pd.DataFrame([val_score1, val_score2, val_score3, val_score4], \n",
    "                  index=['Monte Carlo', 'Leave P-Out', 'Stratified 3-fold', 'Hold out'],\n",
    "                  columns=['Cross Validation score'])\n",
    "df"
   ]
  },
  {
   "cell_type": "markdown",
   "metadata": {},
   "source": [
    "## Analysis"
   ]
  },
  {
   "cell_type": "code",
   "execution_count": 16,
   "metadata": {
    "collapsed": true
   },
   "outputs": [],
   "source": [
    "# Leave p-out cross method works well on small dataset because it use p samples as validation and n-p sample as training set. \n",
    "# In leave p out cross validation all samples get used as training and validation sample.\n",
    "# It is exhaustive cross-validation technique\n",
    "\n",
    "# Monte carlo cross validation randomly split training and validation data.\n",
    "# it is also called shuffled split cross validation.\n",
    "# it is not suitable for imbalance dataset because  may happen that the training set may don’t have the class of data\n",
    "# that is in the test set, and the model won’t be able to generalize for unseen data.\n",
    "\n",
    "# Stratified k-fold cross validation works for imbalance dataset.\n",
    "# In this technique, each fold will have the same ratio of instances of target variable as in the whole datasets."
   ]
  },
  {
   "cell_type": "code",
   "execution_count": null,
   "metadata": {
    "collapsed": true
   },
   "outputs": [],
   "source": []
  }
 ],
 "metadata": {
  "kernelspec": {
   "display_name": "Python 3",
   "language": "python",
   "name": "python3"
  },
  "language_info": {
   "codemirror_mode": {
    "name": "ipython",
    "version": 3
   },
   "file_extension": ".py",
   "mimetype": "text/x-python",
   "name": "python",
   "nbconvert_exporter": "python",
   "pygments_lexer": "ipython3",
   "version": "3.6.3"
  }
 },
 "nbformat": 4,
 "nbformat_minor": 2
}
