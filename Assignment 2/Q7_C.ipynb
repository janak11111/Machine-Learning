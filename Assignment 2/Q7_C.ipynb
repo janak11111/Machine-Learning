{
 "cells": [
  {
   "cell_type": "markdown",
   "metadata": {},
   "source": [
    "### import library"
   ]
  },
  {
   "cell_type": "code",
   "execution_count": 24,
   "metadata": {
    "collapsed": true
   },
   "outputs": [],
   "source": [
    "import numpy as np\n",
    "from sklearn.metrics import precision_score, recall_score, confusion_matrix, fbeta_score"
   ]
  },
  {
   "cell_type": "code",
   "execution_count": 25,
   "metadata": {
    "collapsed": true
   },
   "outputs": [],
   "source": [
    "y_true = [1, 1, 1, 1, 1, 0, 0, 0, 0, 0]\n",
    "y_pred = [1, 1, 1, 1, 1, 1, 1, 1, 1, 1]"
   ]
  },
  {
   "cell_type": "markdown",
   "metadata": {},
   "source": [
    "### Compute TP TN FP FN from confusion matrix"
   ]
  },
  {
   "cell_type": "code",
   "execution_count": 26,
   "metadata": {},
   "outputs": [
    {
     "name": "stdout",
     "output_type": "stream",
     "text": [
      "confusion matrix\n",
      "[[0 5]\n",
      " [0 5]]\n"
     ]
    }
   ],
   "source": [
    "# confusion Matrix\n",
    "m = confusion_matrix(y_true, y_pred)\n",
    "tn, fp, fn, tp = m[0][0], m[0][1], m[1][0], m[1][1]\n",
    "print(\"confusion matrix\")\n",
    "print(m)"
   ]
  },
  {
   "cell_type": "markdown",
   "metadata": {},
   "source": [
    "### Find Precision and Recall"
   ]
  },
  {
   "cell_type": "code",
   "execution_count": 27,
   "metadata": {},
   "outputs": [
    {
     "name": "stdout",
     "output_type": "stream",
     "text": [
      "precision : 0.5\n",
      "recall : 1.0\n"
     ]
    }
   ],
   "source": [
    "precision = tp / (tp+fp)\n",
    "recall = tp / (tp+fn)\n",
    "\n",
    "print(\"precision :\", precision)\n",
    "print(\"recall :\", recall)"
   ]
  },
  {
   "cell_type": "markdown",
   "metadata": {},
   "source": [
    "### Compute F0.5  F1 and F5 Scores"
   ]
  },
  {
   "cell_type": "code",
   "execution_count": 28,
   "metadata": {},
   "outputs": [
    {
     "name": "stdout",
     "output_type": "stream",
     "text": [
      "f0.5_score :  0.5555555555555556\n",
      "f1_score :  0.6666666666666666\n",
      "f5_score :  0.9629629629629629\n"
     ]
    }
   ],
   "source": [
    "f05_score = (1.25 * precision * recall) / (0.25 * precision + recall)\n",
    "f1_score = (2 * precision * recall) / (precision + recall)\n",
    "f5_score = (26 * precision * recall) / (25 * precision + recall)\n",
    "\n",
    "print(\"f0.5_score : \", f05_score)\n",
    "print(\"f1_score : \", f1_score)\n",
    "print(\"f5_score : \", f5_score)"
   ]
  },
  {
   "cell_type": "code",
   "execution_count": null,
   "metadata": {
    "collapsed": true
   },
   "outputs": [],
   "source": []
  }
 ],
 "metadata": {
  "kernelspec": {
   "display_name": "Python 3",
   "language": "python",
   "name": "python3"
  },
  "language_info": {
   "codemirror_mode": {
    "name": "ipython",
    "version": 3
   },
   "file_extension": ".py",
   "mimetype": "text/x-python",
   "name": "python",
   "nbconvert_exporter": "python",
   "pygments_lexer": "ipython3",
   "version": "3.6.3"
  }
 },
 "nbformat": 4,
 "nbformat_minor": 2
}
