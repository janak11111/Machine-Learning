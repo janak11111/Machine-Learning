{
 "cells": [
  {
   "cell_type": "markdown",
   "metadata": {
    "id": "3ig4lpogjH2s"
   },
   "source": [
    "# Q1 - (a)"
   ]
  },
  {
   "cell_type": "code",
   "execution_count": null,
   "metadata": {
    "collapsed": true,
    "id": "pALd9XPfdJi7"
   },
   "outputs": [],
   "source": [
    "# import libraries\n",
    "import pandas as pd\n",
    "import numpy as np\n",
    "import matplotlib.pyplot as plt\n",
    "import seaborn as sns"
   ]
  },
  {
   "cell_type": "code",
   "execution_count": null,
   "metadata": {
    "colab": {
     "base_uri": "https://localhost:8080/",
     "height": 206
    },
    "id": "YEFuBOB4d0w-",
    "outputId": "6590f9d0-8073-4249-c1a0-63d51fd67613"
   },
   "outputs": [
    {
     "data": {
      "text/html": [
       "\n",
       "  <div id=\"df-e12fd584-4c2a-43ff-9422-95383567350a\">\n",
       "    <div class=\"colab-df-container\">\n",
       "      <div>\n",
       "<style scoped>\n",
       "    .dataframe tbody tr th:only-of-type {\n",
       "        vertical-align: middle;\n",
       "    }\n",
       "\n",
       "    .dataframe tbody tr th {\n",
       "        vertical-align: top;\n",
       "    }\n",
       "\n",
       "    .dataframe thead th {\n",
       "        text-align: right;\n",
       "    }\n",
       "</style>\n",
       "<table border=\"1\" class=\"dataframe\">\n",
       "  <thead>\n",
       "    <tr style=\"text-align: right;\">\n",
       "      <th></th>\n",
       "      <th>State</th>\n",
       "      <th>District</th>\n",
       "      <th>Date</th>\n",
       "      <th>Year</th>\n",
       "      <th>Month</th>\n",
       "      <th>avg_soil_moisture</th>\n",
       "      <th>Agency_name</th>\n",
       "    </tr>\n",
       "  </thead>\n",
       "  <tbody>\n",
       "    <tr>\n",
       "      <th>0</th>\n",
       "      <td>Andaman &amp; Nicobar</td>\n",
       "      <td>Nicobars</td>\n",
       "      <td>2022-09-01</td>\n",
       "      <td>2022</td>\n",
       "      <td>9</td>\n",
       "      <td>NaN</td>\n",
       "      <td>NRSC VIC MODEL</td>\n",
       "    </tr>\n",
       "    <tr>\n",
       "      <th>1</th>\n",
       "      <td>Andaman &amp; Nicobar</td>\n",
       "      <td>Nicobars</td>\n",
       "      <td>2022-09-02</td>\n",
       "      <td>2022</td>\n",
       "      <td>9</td>\n",
       "      <td>NaN</td>\n",
       "      <td>NRSC VIC MODEL</td>\n",
       "    </tr>\n",
       "    <tr>\n",
       "      <th>2</th>\n",
       "      <td>Andaman &amp; Nicobar</td>\n",
       "      <td>Nicobars</td>\n",
       "      <td>2022-09-03</td>\n",
       "      <td>2022</td>\n",
       "      <td>9</td>\n",
       "      <td>NaN</td>\n",
       "      <td>NRSC VIC MODEL</td>\n",
       "    </tr>\n",
       "    <tr>\n",
       "      <th>3</th>\n",
       "      <td>Andaman &amp; Nicobar</td>\n",
       "      <td>Nicobars</td>\n",
       "      <td>2022-09-04</td>\n",
       "      <td>2022</td>\n",
       "      <td>9</td>\n",
       "      <td>NaN</td>\n",
       "      <td>NRSC VIC MODEL</td>\n",
       "    </tr>\n",
       "    <tr>\n",
       "      <th>4</th>\n",
       "      <td>Andaman &amp; Nicobar</td>\n",
       "      <td>Nicobars</td>\n",
       "      <td>2022-09-07</td>\n",
       "      <td>2022</td>\n",
       "      <td>9</td>\n",
       "      <td>NaN</td>\n",
       "      <td>NRSC VIC MODEL</td>\n",
       "    </tr>\n",
       "  </tbody>\n",
       "</table>\n",
       "</div>\n",
       "      <button class=\"colab-df-convert\" onclick=\"convertToInteractive('df-e12fd584-4c2a-43ff-9422-95383567350a')\"\n",
       "              title=\"Convert this dataframe to an interactive table.\"\n",
       "              style=\"display:none;\">\n",
       "        \n",
       "  <svg xmlns=\"http://www.w3.org/2000/svg\" height=\"24px\"viewBox=\"0 0 24 24\"\n",
       "       width=\"24px\">\n",
       "    <path d=\"M0 0h24v24H0V0z\" fill=\"none\"/>\n",
       "    <path d=\"M18.56 5.44l.94 2.06.94-2.06 2.06-.94-2.06-.94-.94-2.06-.94 2.06-2.06.94zm-11 1L8.5 8.5l.94-2.06 2.06-.94-2.06-.94L8.5 2.5l-.94 2.06-2.06.94zm10 10l.94 2.06.94-2.06 2.06-.94-2.06-.94-.94-2.06-.94 2.06-2.06.94z\"/><path d=\"M17.41 7.96l-1.37-1.37c-.4-.4-.92-.59-1.43-.59-.52 0-1.04.2-1.43.59L10.3 9.45l-7.72 7.72c-.78.78-.78 2.05 0 2.83L4 21.41c.39.39.9.59 1.41.59.51 0 1.02-.2 1.41-.59l7.78-7.78 2.81-2.81c.8-.78.8-2.07 0-2.86zM5.41 20L4 18.59l7.72-7.72 1.47 1.35L5.41 20z\"/>\n",
       "  </svg>\n",
       "      </button>\n",
       "      \n",
       "  <style>\n",
       "    .colab-df-container {\n",
       "      display:flex;\n",
       "      flex-wrap:wrap;\n",
       "      gap: 12px;\n",
       "    }\n",
       "\n",
       "    .colab-df-convert {\n",
       "      background-color: #E8F0FE;\n",
       "      border: none;\n",
       "      border-radius: 50%;\n",
       "      cursor: pointer;\n",
       "      display: none;\n",
       "      fill: #1967D2;\n",
       "      height: 32px;\n",
       "      padding: 0 0 0 0;\n",
       "      width: 32px;\n",
       "    }\n",
       "\n",
       "    .colab-df-convert:hover {\n",
       "      background-color: #E2EBFA;\n",
       "      box-shadow: 0px 1px 2px rgba(60, 64, 67, 0.3), 0px 1px 3px 1px rgba(60, 64, 67, 0.15);\n",
       "      fill: #174EA6;\n",
       "    }\n",
       "\n",
       "    [theme=dark] .colab-df-convert {\n",
       "      background-color: #3B4455;\n",
       "      fill: #D2E3FC;\n",
       "    }\n",
       "\n",
       "    [theme=dark] .colab-df-convert:hover {\n",
       "      background-color: #434B5C;\n",
       "      box-shadow: 0px 1px 3px 1px rgba(0, 0, 0, 0.15);\n",
       "      filter: drop-shadow(0px 1px 2px rgba(0, 0, 0, 0.3));\n",
       "      fill: #FFFFFF;\n",
       "    }\n",
       "  </style>\n",
       "\n",
       "      <script>\n",
       "        const buttonEl =\n",
       "          document.querySelector('#df-e12fd584-4c2a-43ff-9422-95383567350a button.colab-df-convert');\n",
       "        buttonEl.style.display =\n",
       "          google.colab.kernel.accessAllowed ? 'block' : 'none';\n",
       "\n",
       "        async function convertToInteractive(key) {\n",
       "          const element = document.querySelector('#df-e12fd584-4c2a-43ff-9422-95383567350a');\n",
       "          const dataTable =\n",
       "            await google.colab.kernel.invokeFunction('convertToInteractive',\n",
       "                                                     [key], {});\n",
       "          if (!dataTable) return;\n",
       "\n",
       "          const docLinkHtml = 'Like what you see? Visit the ' +\n",
       "            '<a target=\"_blank\" href=https://colab.research.google.com/notebooks/data_table.ipynb>data table notebook</a>'\n",
       "            + ' to learn more about interactive tables.';\n",
       "          element.innerHTML = '';\n",
       "          dataTable['output_type'] = 'display_data';\n",
       "          await google.colab.output.renderOutput(dataTable, element);\n",
       "          const docLink = document.createElement('div');\n",
       "          docLink.innerHTML = docLinkHtml;\n",
       "          element.appendChild(docLink);\n",
       "        }\n",
       "      </script>\n",
       "    </div>\n",
       "  </div>\n",
       "  "
      ],
      "text/plain": [
       "               State  District        Date  Year  Month  avg_soil_moisture  \\\n",
       "0  Andaman & Nicobar  Nicobars  2022-09-01  2022      9                NaN   \n",
       "1  Andaman & Nicobar  Nicobars  2022-09-02  2022      9                NaN   \n",
       "2  Andaman & Nicobar  Nicobars  2022-09-03  2022      9                NaN   \n",
       "3  Andaman & Nicobar  Nicobars  2022-09-04  2022      9                NaN   \n",
       "4  Andaman & Nicobar  Nicobars  2022-09-07  2022      9                NaN   \n",
       "\n",
       "      Agency_name  \n",
       "0  NRSC VIC MODEL  \n",
       "1  NRSC VIC MODEL  \n",
       "2  NRSC VIC MODEL  \n",
       "3  NRSC VIC MODEL  \n",
       "4  NRSC VIC MODEL  "
      ]
     },
     "execution_count": 2,
     "metadata": {},
     "output_type": "execute_result"
    }
   ],
   "source": [
    "# read data from csv file\n",
    "df = pd.read_csv(\"soil_moisture.csv\")\n",
    "df = df.rename({'Avg_smlvl_at15cm': 'avg_soil_moisture'}, axis=1)\n",
    "df.head()"
   ]
  },
  {
   "cell_type": "code",
   "execution_count": null,
   "metadata": {
    "colab": {
     "base_uri": "https://localhost:8080/"
    },
    "id": "0GadWTr-iuax",
    "outputId": "af4a9746-fe69-4dec-a8bb-9e6b3d790597"
   },
   "outputs": [
    {
     "data": {
      "text/plain": [
       "(19791, 7)"
      ]
     },
     "execution_count": 3,
     "metadata": {},
     "output_type": "execute_result"
    }
   ],
   "source": [
    "# check shape of dataset\n",
    "df.shape"
   ]
  },
  {
   "cell_type": "code",
   "execution_count": null,
   "metadata": {
    "colab": {
     "base_uri": "https://localhost:8080/"
    },
    "id": "Ag74XsojizQY",
    "outputId": "b5bc2d4f-de12-4feb-8407-e8530cab7fa8"
   },
   "outputs": [
    {
     "name": "stdout",
     "output_type": "stream",
     "text": [
      "<class 'pandas.core.frame.DataFrame'>\n",
      "RangeIndex: 19791 entries, 0 to 19790\n",
      "Data columns (total 7 columns):\n",
      " #   Column             Non-Null Count  Dtype  \n",
      "---  ------             --------------  -----  \n",
      " 0   State              19791 non-null  object \n",
      " 1   District           19791 non-null  object \n",
      " 2   Date               19791 non-null  object \n",
      " 3   Year               19791 non-null  int64  \n",
      " 4   Month              19791 non-null  int64  \n",
      " 5   avg_soil_moisture  19683 non-null  float64\n",
      " 6   Agency_name        19791 non-null  object \n",
      "dtypes: float64(1), int64(2), object(4)\n",
      "memory usage: 1.1+ MB\n"
     ]
    }
   ],
   "source": [
    "# check info of dataset\n",
    "df.info()"
   ]
  },
  {
   "cell_type": "code",
   "execution_count": null,
   "metadata": {
    "colab": {
     "base_uri": "https://localhost:8080/",
     "height": 300
    },
    "id": "bbKYDgn_grI6",
    "outputId": "9f1b9830-5ae4-464d-ba18-42a8551cb96e"
   },
   "outputs": [
    {
     "data": {
      "text/html": [
       "\n",
       "  <div id=\"df-de16c90b-732d-4ae0-965c-e048183f520c\">\n",
       "    <div class=\"colab-df-container\">\n",
       "      <div>\n",
       "<style scoped>\n",
       "    .dataframe tbody tr th:only-of-type {\n",
       "        vertical-align: middle;\n",
       "    }\n",
       "\n",
       "    .dataframe tbody tr th {\n",
       "        vertical-align: top;\n",
       "    }\n",
       "\n",
       "    .dataframe thead th {\n",
       "        text-align: right;\n",
       "    }\n",
       "</style>\n",
       "<table border=\"1\" class=\"dataframe\">\n",
       "  <thead>\n",
       "    <tr style=\"text-align: right;\">\n",
       "      <th></th>\n",
       "      <th>Year</th>\n",
       "      <th>Month</th>\n",
       "      <th>avg_soil_moisture</th>\n",
       "    </tr>\n",
       "  </thead>\n",
       "  <tbody>\n",
       "    <tr>\n",
       "      <th>count</th>\n",
       "      <td>19791.0</td>\n",
       "      <td>19791.0</td>\n",
       "      <td>19683.000000</td>\n",
       "    </tr>\n",
       "    <tr>\n",
       "      <th>mean</th>\n",
       "      <td>2022.0</td>\n",
       "      <td>9.0</td>\n",
       "      <td>22.598401</td>\n",
       "    </tr>\n",
       "    <tr>\n",
       "      <th>std</th>\n",
       "      <td>0.0</td>\n",
       "      <td>0.0</td>\n",
       "      <td>6.910616</td>\n",
       "    </tr>\n",
       "    <tr>\n",
       "      <th>min</th>\n",
       "      <td>2022.0</td>\n",
       "      <td>9.0</td>\n",
       "      <td>0.706063</td>\n",
       "    </tr>\n",
       "    <tr>\n",
       "      <th>25%</th>\n",
       "      <td>2022.0</td>\n",
       "      <td>9.0</td>\n",
       "      <td>18.513690</td>\n",
       "    </tr>\n",
       "    <tr>\n",
       "      <th>50%</th>\n",
       "      <td>2022.0</td>\n",
       "      <td>9.0</td>\n",
       "      <td>23.726072</td>\n",
       "    </tr>\n",
       "    <tr>\n",
       "      <th>75%</th>\n",
       "      <td>2022.0</td>\n",
       "      <td>9.0</td>\n",
       "      <td>27.616583</td>\n",
       "    </tr>\n",
       "    <tr>\n",
       "      <th>max</th>\n",
       "      <td>2022.0</td>\n",
       "      <td>9.0</td>\n",
       "      <td>38.409035</td>\n",
       "    </tr>\n",
       "  </tbody>\n",
       "</table>\n",
       "</div>\n",
       "      <button class=\"colab-df-convert\" onclick=\"convertToInteractive('df-de16c90b-732d-4ae0-965c-e048183f520c')\"\n",
       "              title=\"Convert this dataframe to an interactive table.\"\n",
       "              style=\"display:none;\">\n",
       "        \n",
       "  <svg xmlns=\"http://www.w3.org/2000/svg\" height=\"24px\"viewBox=\"0 0 24 24\"\n",
       "       width=\"24px\">\n",
       "    <path d=\"M0 0h24v24H0V0z\" fill=\"none\"/>\n",
       "    <path d=\"M18.56 5.44l.94 2.06.94-2.06 2.06-.94-2.06-.94-.94-2.06-.94 2.06-2.06.94zm-11 1L8.5 8.5l.94-2.06 2.06-.94-2.06-.94L8.5 2.5l-.94 2.06-2.06.94zm10 10l.94 2.06.94-2.06 2.06-.94-2.06-.94-.94-2.06-.94 2.06-2.06.94z\"/><path d=\"M17.41 7.96l-1.37-1.37c-.4-.4-.92-.59-1.43-.59-.52 0-1.04.2-1.43.59L10.3 9.45l-7.72 7.72c-.78.78-.78 2.05 0 2.83L4 21.41c.39.39.9.59 1.41.59.51 0 1.02-.2 1.41-.59l7.78-7.78 2.81-2.81c.8-.78.8-2.07 0-2.86zM5.41 20L4 18.59l7.72-7.72 1.47 1.35L5.41 20z\"/>\n",
       "  </svg>\n",
       "      </button>\n",
       "      \n",
       "  <style>\n",
       "    .colab-df-container {\n",
       "      display:flex;\n",
       "      flex-wrap:wrap;\n",
       "      gap: 12px;\n",
       "    }\n",
       "\n",
       "    .colab-df-convert {\n",
       "      background-color: #E8F0FE;\n",
       "      border: none;\n",
       "      border-radius: 50%;\n",
       "      cursor: pointer;\n",
       "      display: none;\n",
       "      fill: #1967D2;\n",
       "      height: 32px;\n",
       "      padding: 0 0 0 0;\n",
       "      width: 32px;\n",
       "    }\n",
       "\n",
       "    .colab-df-convert:hover {\n",
       "      background-color: #E2EBFA;\n",
       "      box-shadow: 0px 1px 2px rgba(60, 64, 67, 0.3), 0px 1px 3px 1px rgba(60, 64, 67, 0.15);\n",
       "      fill: #174EA6;\n",
       "    }\n",
       "\n",
       "    [theme=dark] .colab-df-convert {\n",
       "      background-color: #3B4455;\n",
       "      fill: #D2E3FC;\n",
       "    }\n",
       "\n",
       "    [theme=dark] .colab-df-convert:hover {\n",
       "      background-color: #434B5C;\n",
       "      box-shadow: 0px 1px 3px 1px rgba(0, 0, 0, 0.15);\n",
       "      filter: drop-shadow(0px 1px 2px rgba(0, 0, 0, 0.3));\n",
       "      fill: #FFFFFF;\n",
       "    }\n",
       "  </style>\n",
       "\n",
       "      <script>\n",
       "        const buttonEl =\n",
       "          document.querySelector('#df-de16c90b-732d-4ae0-965c-e048183f520c button.colab-df-convert');\n",
       "        buttonEl.style.display =\n",
       "          google.colab.kernel.accessAllowed ? 'block' : 'none';\n",
       "\n",
       "        async function convertToInteractive(key) {\n",
       "          const element = document.querySelector('#df-de16c90b-732d-4ae0-965c-e048183f520c');\n",
       "          const dataTable =\n",
       "            await google.colab.kernel.invokeFunction('convertToInteractive',\n",
       "                                                     [key], {});\n",
       "          if (!dataTable) return;\n",
       "\n",
       "          const docLinkHtml = 'Like what you see? Visit the ' +\n",
       "            '<a target=\"_blank\" href=https://colab.research.google.com/notebooks/data_table.ipynb>data table notebook</a>'\n",
       "            + ' to learn more about interactive tables.';\n",
       "          element.innerHTML = '';\n",
       "          dataTable['output_type'] = 'display_data';\n",
       "          await google.colab.output.renderOutput(dataTable, element);\n",
       "          const docLink = document.createElement('div');\n",
       "          docLink.innerHTML = docLinkHtml;\n",
       "          element.appendChild(docLink);\n",
       "        }\n",
       "      </script>\n",
       "    </div>\n",
       "  </div>\n",
       "  "
      ],
      "text/plain": [
       "          Year    Month  avg_soil_moisture\n",
       "count  19791.0  19791.0       19683.000000\n",
       "mean    2022.0      9.0          22.598401\n",
       "std        0.0      0.0           6.910616\n",
       "min     2022.0      9.0           0.706063\n",
       "25%     2022.0      9.0          18.513690\n",
       "50%     2022.0      9.0          23.726072\n",
       "75%     2022.0      9.0          27.616583\n",
       "max     2022.0      9.0          38.409035"
      ]
     },
     "execution_count": 5,
     "metadata": {},
     "output_type": "execute_result"
    }
   ],
   "source": [
    "# get statistical observation\n",
    "df.describe()\n",
    "\n",
    "## Analysis for moisture columns\n",
    "## Average mositure value is 22.59\n",
    "## min and max values are 0.70 and 38.40 resectively."
   ]
  },
  {
   "cell_type": "code",
   "execution_count": null,
   "metadata": {
    "colab": {
     "base_uri": "https://localhost:8080/"
    },
    "id": "4ipSoiOjh0CK",
    "outputId": "afadfe88-f845-4580-e3bb-8182afe7b7d2"
   },
   "outputs": [
    {
     "data": {
      "text/plain": [
       "State                  0\n",
       "District               0\n",
       "Date                   0\n",
       "Year                   0\n",
       "Month                  0\n",
       "avg_soil_moisture    108\n",
       "Agency_name            0\n",
       "dtype: int64"
      ]
     },
     "execution_count": 6,
     "metadata": {},
     "output_type": "execute_result"
    }
   ],
   "source": [
    "# check for null values\n",
    "df.isnull().sum()\n",
    "\n",
    "## Analysis\n",
    "## 108 soil moisture values are null"
   ]
  },
  {
   "cell_type": "markdown",
   "metadata": {
    "id": "oDRjbDCEjXR3"
   },
   "source": [
    "## Data Visulization"
   ]
  },
  {
   "cell_type": "code",
   "execution_count": null,
   "metadata": {
    "colab": {
     "base_uri": "https://localhost:8080/",
     "height": 369
    },
    "id": "O32VX6NqkwY6",
    "outputId": "5083f9a3-7729-4d27-d914-5bb6219bd27f"
   },
   "outputs": [
    {
     "data": {
      "image/png": "[encoded data removed]",
      "text/plain": [
       "<Figure size 360x360 with 1 Axes>"
      ]
     },
     "metadata": {
      "needs_background": "light"
     },
     "output_type": "display_data"
    }
   ],
   "source": [
    "# histogram of avg soil moisture\n",
    "sns.displot(df.avg_soil_moisture, kde=True)\n",
    "plt.show()\n",
    "\n",
    "\n",
    "## Analysis\n",
    "## deviation of data from its mean value is vely less. thats why curve is higher.\n",
    "## more values are there in between in range (15, 13)."
   ]
  },
  {
   "cell_type": "code",
   "execution_count": null,
   "metadata": {
    "colab": {
     "base_uri": "https://localhost:8080/",
     "height": 336
    },
    "id": "pMcjhFNDq8UA",
    "outputId": "97d16293-4b95-4072-a8e1-f77b82751a2a"
   },
   "outputs": [
    {
     "name": "stderr",
     "output_type": "stream",
     "text": [
      "/usr/local/lib/python3.7/dist-packages/seaborn/_decorators.py:43: FutureWarning: Pass the following variable as a keyword arg: x. From version 0.12, the only valid positional argument will be `data`, and passing other arguments without an explicit keyword will result in an error or misinterpretation.\n",
      "  FutureWarning\n"
     ]
    },
    {
     "data": {
      "image/png": "[encoded data removed]",
      "text/plain": [
       "<Figure size 432x288 with 1 Axes>"
      ]
     },
     "metadata": {
      "needs_background": "light"
     },
     "output_type": "display_data"
    }
   ],
   "source": [
    "# box plot of avg_soil_moisture\n",
    "sns.boxplot(df.avg_soil_moisture)\n",
    "plt.show()\n",
    "\n",
    "\n",
    "## Analysis\n",
    "## There is no outlier in avg soil moisture feature"
   ]
  },
  {
   "cell_type": "code",
   "execution_count": null,
   "metadata": {
    "colab": {
     "base_uri": "https://localhost:8080/",
     "height": 280
    },
    "id": "pmTdLyH9igFa",
    "outputId": "7742ace7-0d0c-446e-9082-f25e6f43dfaf"
   },
   "outputs": [
    {
     "data": {
      "image/png": "[encoded data removed]",
      "text/plain": [
       "<Figure size 432x288 with 1 Axes>"
      ]
     },
     "metadata": {
      "needs_background": "light"
     },
     "output_type": "display_data"
    }
   ],
   "source": [
    "# cdf of avg soil moisture\n",
    "# sns.displot(df.Avg_smlvl_at15cm, kde=True)\n",
    "sns.kdeplot(df.avg_soil_moisture, cumulative=True, fill=True, color='b')\n",
    "plt.show()\n",
    "\n",
    "\n",
    "## Analysis\n",
    "## almost 80% of value of average soil mositure is less than 30."
   ]
  },
  {
   "cell_type": "markdown",
   "metadata": {
    "id": "jwTW7BtIs0uB"
   },
   "source": [
    "## Dataset Description in Brief"
   ]
  },
  {
   "cell_type": "code",
   "execution_count": null,
   "metadata": {
    "collapsed": true,
    "id": "O_sqqzvTtB52"
   },
   "outputs": [],
   "source": [
    "# Dataset have 7 columns and 19791 rows.\n",
    "# this dataset can be used for Regression task.\n",
    "# we can use this dataset to predict the soil moisture for next day based on past data.\n",
    "# in given dataset only \"average soil moisture\" is continous feature."
   ]
  },
  {
   "cell_type": "markdown",
   "metadata": {
    "id": "SmwX_C57qeVX"
   },
   "source": [
    "## Analysis Summary"
   ]
  },
  {
   "cell_type": "code",
   "execution_count": null,
   "metadata": {
    "collapsed": true,
    "id": "aFBW8OSlqff2"
   },
   "outputs": [],
   "source": [
    "# Average value of soil mositure is 22.59\n",
    "# min and max values are 0.70 and 38.40 resectively.\n",
    "# 108 soil moisture values are null ingiven dataset.\n",
    "# deviation of data from its mean value is vely less. thats why density curve is higher.\n",
    "# we can see from cdf almost 80 % of value of average soil mositure is less than 30."
   ]
  },
  {
   "cell_type": "markdown",
   "metadata": {
    "id": "S60dX0npyrDu"
   },
   "source": [
    "## perform normalization"
   ]
  },
  {
   "cell_type": "code",
   "execution_count": null,
   "metadata": {
    "collapsed": true,
    "id": "hAybvuJWyvX7"
   },
   "outputs": [],
   "source": [
    "# fill null values \n",
    "df.avg_soil_moisture = df.avg_soil_moisture.fillna(df.avg_soil_moisture.mean())"
   ]
  },
  {
   "cell_type": "code",
   "execution_count": null,
   "metadata": {
    "colab": {
     "base_uri": "https://localhost:8080/"
    },
    "id": "8S7w29OM0BmK",
    "outputId": "fa3b1413-a1cb-4d34-bbe9-6b037a8c722b"
   },
   "outputs": [
    {
     "data": {
      "text/plain": [
       "State                0\n",
       "District             0\n",
       "Date                 0\n",
       "Year                 0\n",
       "Month                0\n",
       "avg_soil_moisture    0\n",
       "Agency_name          0\n",
       "dtype: int64"
      ]
     },
     "execution_count": 13,
     "metadata": {},
     "output_type": "execute_result"
    }
   ],
   "source": [
    "# now zero null values in dataset\n",
    "df.isnull().sum()"
   ]
  },
  {
   "cell_type": "code",
   "execution_count": null,
   "metadata": {
    "colab": {
     "base_uri": "https://localhost:8080/"
    },
    "id": "nHZWkjVknQ5I",
    "outputId": "779e63f7-207c-4866-fad3-d01a511d3519"
   },
   "outputs": [
    {
     "name": "stdout",
     "output_type": "stream",
     "text": [
      "State                Andaman & Nicobar\n",
      "District                      Nicobars\n",
      "Date                        2022-09-10\n",
      "Year                              2022\n",
      "Month                                9\n",
      "avg_soil_moisture            22.598401\n",
      "Agency_name             NRSC VIC MODEL\n",
      "Name: 9, dtype: object\n",
      "\n",
      "State                Andaman & Nicobar\n",
      "District                      Nicobars\n",
      "Date                        2022-09-10\n",
      "Year                              2022\n",
      "Month                                9\n",
      "avg_soil_moisture             0.580653\n",
      "Agency_name             NRSC VIC MODEL\n",
      "Name: 9, dtype: object\n"
     ]
    }
   ],
   "source": [
    "# perform normalization\n",
    "from sklearn.preprocessing import MinMaxScaler\n",
    "\n",
    "\n",
    "# print first 10 rows before normalization\n",
    "df1 = df.copy()\n",
    "print(df1.iloc[9, :])\n",
    "scaler = MinMaxScaler()\n",
    "df1['avg_soil_moisture'] = scaler.fit_transform(df1.avg_soil_moisture.to_numpy().reshape(-1, 1))\n",
    "\n",
    "\n",
    "# print first 10 rows after normalization\n",
    "print()\n",
    "print(df1.iloc[9, :])\n"
   ]
  },
  {
   "cell_type": "markdown",
   "metadata": {
    "id": "X4UJHY-FtYSi"
   },
   "source": [
    "## Perform Standardization"
   ]
  },
  {
   "cell_type": "code",
   "execution_count": null,
   "metadata": {
    "colab": {
     "base_uri": "https://localhost:8080/"
    },
    "id": "EootCSIAqF0l",
    "outputId": "eb2483a7-3f71-49e0-83fb-31edcd0773cb"
   },
   "outputs": [
    {
     "name": "stdout",
     "output_type": "stream",
     "text": [
      "State                Andaman & Nicobar\n",
      "District                      Nicobars\n",
      "Date                        2022-09-10\n",
      "Year                              2022\n",
      "Month                                9\n",
      "avg_soil_moisture            22.598401\n",
      "Agency_name             NRSC VIC MODEL\n",
      "Name: 9, dtype: object\n",
      "\n",
      "State                Andaman & Nicobar\n",
      "District                      Nicobars\n",
      "Date                        2022-09-10\n",
      "Year                              2022\n",
      "Month                                9\n",
      "avg_soil_moisture                  0.0\n",
      "Agency_name             NRSC VIC MODEL\n",
      "Name: 9, dtype: object\n"
     ]
    }
   ],
   "source": [
    "# perform standardization\n",
    "from sklearn.preprocessing import StandardScaler\n",
    "\n",
    "\n",
    "# print first 10 rows before standardization\n",
    "df2 = df.copy()\n",
    "print(df2.iloc[9, :])\n",
    "scaler = StandardScaler()\n",
    "df2['avg_soil_moisture'] = scaler.fit_transform(df2.avg_soil_moisture.to_numpy().reshape(-1, 1))\n",
    "\n",
    "\n",
    "# print first 10 rows after standardization\n",
    "print()\n",
    "print(df2.iloc[9, :])"
   ]
  }
 ],
 "metadata": {
  "colab": {
   "collapsed_sections": [],
   "provenance": []
  },
  "kernelspec": {
   "display_name": "Python 3",
   "language": "python",
   "name": "python3"
  },
  "language_info": {
   "codemirror_mode": {
    "name": "ipython",
    "version": 3
   },
   "file_extension": ".py",
   "mimetype": "text/x-python",
   "name": "python",
   "nbconvert_exporter": "python",
   "pygments_lexer": "ipython3",
   "version": "3.6.3"
  }
 },
 "nbformat": 4,
 "nbformat_minor": 1
}
